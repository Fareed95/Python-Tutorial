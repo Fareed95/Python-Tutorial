{
 "cells": [
  {
   "cell_type": "markdown",
   "metadata": {
    "vscode": {
     "languageId": "plaintext"
    }
   },
   "source": [
    "# Day 2 "
   ]
  },
  {
   "cell_type": "markdown",
   "metadata": {},
   "source": [
    "## Different Types of data types in python "
   ]
  },
  {
   "cell_type": "markdown",
   "metadata": {},
   "source": [
    "### 1. Set \n",
    "### 2. Tuple \n",
    "### 3. Dictio0nary\n",
    "### 4. List"
   ]
  },
  {
   "cell_type": "markdown",
   "metadata": {},
   "source": [
    "### What is set ? "
   ]
  },
  {
   "cell_type": "markdown",
   "metadata": {},
   "source": [
    "Somyyaaa --- company --> fareed, rahul , rehbar , nitin\n",
    "pallavi --- company ---> fareed, nitin , priya , mansi  \n",
    "overall company --> fareed, rahul, rehbar, nitin , priya, mansi \n",
    "intersectio bof emoployess ---> fareed , nitin"
   ]
  },
  {
   "cell_type": "markdown",
   "metadata": {},
   "source": [
    "#### Syntax for set ---> inside the ```{}```  individual data "
   ]
  },
  {
   "cell_type": "markdown",
   "metadata": {},
   "source": [
    "#### What things i can do with set ?\n",
    "---> manipulate the data, i can perform union , intersection , sets method "
   ]
  },
  {
   "cell_type": "code",
   "execution_count": 51,
   "metadata": {},
   "outputs": [
    {
     "name": "stdout",
     "output_type": "stream",
     "text": [
      "<class 'set'>\n"
     ]
    }
   ],
   "source": [
    "set = {1,2,3,4}\n",
    "\n",
    "print(type(set)) # type function in python \n"
   ]
  },
  {
   "cell_type": "code",
   "execution_count": 54,
   "metadata": {},
   "outputs": [
    {
     "ename": "TypeError",
     "evalue": "'set' object is not callable",
     "output_type": "error",
     "traceback": [
      "\u001b[0;31m---------------------------------------------------------------------------\u001b[0m",
      "\u001b[0;31mTypeError\u001b[0m                                 Traceback (most recent call last)",
      "Cell \u001b[0;32mIn[54], line 2\u001b[0m\n\u001b[1;32m      1\u001b[0m \u001b[38;5;66;03m# Method 1 of creating set \u001b[39;00m\n\u001b[0;32m----> 2\u001b[0m set1 \u001b[38;5;241m=\u001b[39m \u001b[38;5;28;43mset\u001b[39;49m\u001b[43m(\u001b[49m\u001b[43m)\u001b[49m\n\u001b[1;32m      3\u001b[0m \u001b[38;5;28mprint\u001b[39m(set1)\n\u001b[1;32m      5\u001b[0m set1 \u001b[38;5;241m=\u001b[39m \u001b[38;5;28mset\u001b[39m([\u001b[38;5;124m\"\u001b[39m\u001b[38;5;124mGeeksForGeeks\u001b[39m\u001b[38;5;124m\"\u001b[39m,\u001b[38;5;124m\"\u001b[39m\u001b[38;5;124mpallavi\u001b[39m\u001b[38;5;124m\"\u001b[39m])\n",
      "\u001b[0;31mTypeError\u001b[0m: 'set' object is not callable"
     ]
    }
   ],
   "source": [
    "# Method 1 of creating set \n",
    "set1 = set()\n",
    "print(set1)\n",
    "\n",
    "set1 = set([\"GeeksForGeeks\",\"pallavi\"])"
   ]
  },
  {
   "cell_type": "code",
   "execution_count": 56,
   "metadata": {},
   "outputs": [
    {
     "name": "stdout",
     "output_type": "stream",
     "text": [
      "{'fareed', 'Kanishk'}\n"
     ]
    }
   ],
   "source": [
    "# Method 2 of creating set \n",
    "somya = {\"fareed\",\"Kanishk\"}\n",
    "pallavi = {\"fareed\",\"nitin\",\"mansi\",\"priya\"}\n",
    "# somya.update([\"Rahul\", \"Rehbar\"])\n",
    "# somya.add(\"sushant\",\"aniket\")\n",
    "print(somya)"
   ]
  },
  {
   "cell_type": "markdown",
   "metadata": {},
   "source": [
    "####  iska matlab hai ham add me only one argument ya data pass karsakte hai ... and if we want to update multiple datas then we will use update "
   ]
  },
  {
   "cell_type": "code",
   "execution_count": 46,
   "metadata": {},
   "outputs": [
    {
     "name": "stdout",
     "output_type": "stream",
     "text": [
      "False\n",
      "False\n"
     ]
    }
   ],
   "source": [
    "# overall_empoloyees = somya.union(pallavi)\n",
    "# print(overall_empoloyees)\n",
    "\n",
    "# intersection_employees = somya.intersection(pallavi)\n",
    "# print(intersection_employees)\n",
    "\n",
    "\n",
    "# add_function = pallavi.difference(somya)\n",
    "# print(add_function)\n",
    "\n",
    "var = pallavi.issuperset(somya)\n",
    "char = somya.issubset(pallavi)\n",
    "print(var)\n",
    "print(char)\n"
   ]
  },
  {
   "cell_type": "markdown",
   "metadata": {},
   "source": [
    "### What is Tuple ? "
   ]
  },
  {
   "cell_type": "markdown",
   "metadata": {},
   "source": [
    "##### similar to set but here you cant modify the set ? "
   ]
  },
  {
   "cell_type": "code",
   "execution_count": 57,
   "metadata": {},
   "outputs": [
    {
     "name": "stdout",
     "output_type": "stream",
     "text": [
      "()\n",
      "('Geeks', 'For')\n",
      "(1, 2, 4, 5, 6)\n",
      "('G', 'e', 'e', 'k', 's')\n"
     ]
    }
   ],
   "source": [
    "# method one of creating tuple \n",
    "tup = ()\n",
    "print(tup)\n",
    "\n",
    "# Using String\n",
    "tup = ('Geeks', 'For')\n",
    "print(tup)\n",
    "\n",
    "# Using List\n",
    "li = [1, 2, 4, 5, 6]\n",
    "print(tuple(li))\n",
    "\n",
    "# Using Built-in Function\n",
    "tup = tuple('Geeks')\n",
    "print(tup)"
   ]
  },
  {
   "cell_type": "code",
   "execution_count": 49,
   "metadata": {},
   "outputs": [
    {
     "name": "stdout",
     "output_type": "stream",
     "text": [
      "<class 'tuple'>\n"
     ]
    }
   ],
   "source": [
    "var = (1,2,3)\n",
    "print(type(var))"
   ]
  },
  {
   "cell_type": "code",
   "execution_count": 50,
   "metadata": {},
   "outputs": [
    {
     "name": "stdout",
     "output_type": "stream",
     "text": [
      "<class 'list'>\n"
     ]
    }
   ],
   "source": [
    "list = [\"saboon\", \"10 kotamir free podina\"]\n",
    "print(type(list))\n",
    "\n",
    "\n"
   ]
  },
  {
   "cell_type": "code",
   "execution_count": 118,
   "metadata": {},
   "outputs": [
    {
     "name": "stdout",
     "output_type": "stream",
     "text": [
      "{'wanna': 'want to', 'gonna': 'going to', 'btw': 'By the way'}\n",
      "('btw', 'By the way')\n",
      "{'wanna': 'want to', 'gonna': 'going to'}\n"
     ]
    }
   ],
   "source": [
    "d = { \"name\": \"Alice\", 1: \"Python\", (1, 2): [1,2,4] }\n",
    "\n",
    "oxford = {\"wanna\": \"want to\", \"gonna\":\"going to\", \"btw\":\"By the way\"}\n",
    "\n",
    "print(oxford)\n",
    "a= oxford.popitem()\n",
    "print(a)\n",
    "print(oxford)\n",
    "\n",
    "\n",
    "# print\n",
    "# print(oxford[\"gonna\"])"
   ]
  },
  {
   "cell_type": "code",
   "execution_count": 77,
   "metadata": {},
   "outputs": [],
   "source": [
    "somya_company_data = [\n",
    "    {\n",
    "        \"name\": \"Fareed\",\n",
    "        \"id\": 1,\n",
    "        \"occupation\":\"teacher\",\n",
    "        \"is_senior\":True,\n",
    "     \n",
    "    },\n",
    "    {\n",
    "        \"name\":\"pallavi\",\n",
    "        \"id\":2,\n",
    "        \"occupation\":\"preacher\",\n",
    "        \"is_senior\": False,\n",
    "    }\n",
    "]\n",
    "# a = [1,2]"
   ]
  },
  {
   "cell_type": "code",
   "execution_count": 110,
   "metadata": {},
   "outputs": [
    {
     "name": "stdout",
     "output_type": "stream",
     "text": [
      "teacher\n"
     ]
    }
   ],
   "source": [
    "print(somya_company_data[0][\"occupation\"])"
   ]
  },
  {
   "cell_type": "markdown",
   "metadata": {},
   "source": [
    "## We are holding dictionary will check it out "
   ]
  },
  {
   "cell_type": "markdown",
   "metadata": {},
   "source": [
    "## Indexing in python"
   ]
  },
  {
   "cell_type": "code",
   "execution_count": 106,
   "metadata": {},
   "outputs": [],
   "source": [
    "a = \"Fareeds\" # F -> 0 , a -> 1, r -> 2 , e -> 3 . e -> 4, d -> 5\n",
    "# d -> -1 , e -> -2 , e -> -3 , r -> -4, a -> -5 , F -> -6\n",
    "# print(a[-6])"
   ]
  },
  {
   "cell_type": "markdown",
   "metadata": {},
   "source": [
    "#### Double slicing in python"
   ]
  },
  {
   "cell_type": "code",
   "execution_count": 109,
   "metadata": {},
   "outputs": [
    {
     "name": "stdout",
     "output_type": "stream",
     "text": [
      "Fres\n"
     ]
    }
   ],
   "source": [
    "print(a[::2]) # --> 1, "
   ]
  }
 ],
 "metadata": {
  "kernelspec": {
   "display_name": "venv",
   "language": "python",
   "name": "python3"
  },
  "language_info": {
   "codemirror_mode": {
    "name": "ipython",
    "version": 3
   },
   "file_extension": ".py",
   "mimetype": "text/x-python",
   "name": "python",
   "nbconvert_exporter": "python",
   "pygments_lexer": "ipython3",
   "version": "3.12.3"
  }
 },
 "nbformat": 4,
 "nbformat_minor": 2
}
