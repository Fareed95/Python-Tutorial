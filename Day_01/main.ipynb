{
 "cells": [
  {
   "cell_type": "markdown",
   "metadata": {},
   "source": [
    "# Day 1 "
   ]
  },
  {
   "cell_type": "markdown",
   "metadata": {},
   "source": [
    "## How to creata a virtual environment in python ?"
   ]
  },
  {
   "cell_type": "markdown",
   "metadata": {},
   "source": [
    "For windows \n",
    "```\n",
    "python -m venv venv\n",
    "```"
   ]
  },
  {
   "cell_type": "markdown",
   "metadata": {},
   "source": [
    "For macos \n",
    "```\n",
    "python3 -m venv venv\n",
    "```\n"
   ]
  },
  {
   "cell_type": "markdown",
   "metadata": {},
   "source": [
    "## How to activate virtual environment \n",
    "\n"
   ]
  },
  {
   "cell_type": "markdown",
   "metadata": {},
   "source": [
    "For windows \n",
    "```\n",
    "venv/Scripts/activate\n",
    "```\n",
    "\n",
    "For mac \n",
    "```\n",
    "source venv/bin/activate\n"
   ]
  },
  {
   "cell_type": "markdown",
   "metadata": {},
   "source": [
    "## How to get the output "
   ]
  },
  {
   "cell_type": "markdown",
   "metadata": {},
   "source": [
    "Need to use the ```print()``` function \n"
   ]
  },
  {
   "cell_type": "code",
   "execution_count": 5,
   "metadata": {},
   "outputs": [
    {
     "name": "stdout",
     "output_type": "stream",
     "text": [
      "Hello world\n"
     ]
    }
   ],
   "source": [
    "print(\"Hello world\")"
   ]
  },
  {
   "cell_type": "markdown",
   "metadata": {},
   "source": [
    "## Any thing wrote inside the ``` \" \" ``` is string in python"
   ]
  },
  {
   "cell_type": "markdown",
   "metadata": {},
   "source": [
    "## How to give your input to the machine "
   ]
  },
  {
   "cell_type": "markdown",
   "metadata": {},
   "source": [
    "Need to use ```input()```"
   ]
  },
  {
   "cell_type": "code",
   "execution_count": 6,
   "metadata": {},
   "outputs": [
    {
     "name": "stdout",
     "output_type": "stream",
     "text": [
      "Is a very good girl\n"
     ]
    }
   ],
   "source": [
    "somya = \"Is a very good girl\"\n",
    "pallavi = \"is a smart girl\" #-----> String\n",
    "print(somya)"
   ]
  },
  {
   "cell_type": "code",
   "execution_count": 8,
   "metadata": {},
   "outputs": [
    {
     "name": "stdout",
     "output_type": "stream",
     "text": [
      "nothing \n"
     ]
    }
   ],
   "source": [
    "a = input(\"Whats in your mind buddy:\")\n",
    "print(a)"
   ]
  },
  {
   "cell_type": "markdown",
   "metadata": {},
   "source": [
    "## Greeting project"
   ]
  },
  {
   "cell_type": "code",
   "execution_count": null,
   "metadata": {},
   "outputs": [
    {
     "name": "stdout",
     "output_type": "stream",
     "text": [
      "Welcomefareed\n"
     ]
    }
   ],
   "source": [
    "name = input(\"Whats your name buddy?\")\n",
    "a = \"Welcome\"\n",
    "print(a+ name)"
   ]
  },
  {
   "cell_type": "markdown",
   "metadata": {},
   "source": [
    "## Pallavi requests for f string"
   ]
  },
  {
   "cell_type": "code",
   "execution_count": 10,
   "metadata": {},
   "outputs": [
    {
     "name": "stdout",
     "output_type": "stream",
     "text": [
      "Welcome somya to the adventure game!\n"
     ]
    }
   ],
   "source": [
    "name = input(\"Whats your name buddy?\")\n",
    "\n",
    "print(f\"Welcome {name} to the adventure game!\")"
   ]
  },
  {
   "cell_type": "markdown",
   "metadata": {},
   "source": [
    "## Data types in python"
   ]
  },
  {
   "cell_type": "markdown",
   "metadata": {},
   "source": [
    "### 1. String \n",
    "------> Anything i uses inside the ```\"\"``` is the string \n",
    "\n"
   ]
  },
  {
   "cell_type": "markdown",
   "metadata": {},
   "source": [
    "### 2.  Integer\n",
    "------>   Integer is a primitive type in python that represents a whole number, either positive, negative\n",
    "write number \n"
   ]
  },
  {
   "cell_type": "code",
   "execution_count": 12,
   "metadata": {},
   "outputs": [
    {
     "name": "stdout",
     "output_type": "stream",
     "text": [
      "11\n"
     ]
    }
   ],
   "source": [
    "a = 5\n",
    "b =6\n",
    "print(a+b)"
   ]
  },
  {
   "cell_type": "markdown",
   "metadata": {},
   "source": [
    "## What if i use this integer in double question ??"
   ]
  },
  {
   "cell_type": "code",
   "execution_count": 16,
   "metadata": {},
   "outputs": [
    {
     "name": "stdout",
     "output_type": "stream",
     "text": [
      "my name is Fareed\n"
     ]
    }
   ],
   "source": [
    "a = \"my name is \"\n",
    "b = \"Fareed\"\n",
    "print(a+b)"
   ]
  },
  {
   "cell_type": "code",
   "execution_count": 23,
   "metadata": {},
   "outputs": [
    {
     "name": "stdout",
     "output_type": "stream",
     "text": [
      "56\n"
     ]
    }
   ],
   "source": [
    "a = \"5\"\n",
    "b = \"6\"\n",
    "print(a+b)"
   ]
  },
  {
   "cell_type": "code",
   "execution_count": 21,
   "metadata": {},
   "outputs": [
    {
     "name": "stdout",
     "output_type": "stream",
     "text": [
      "28\n"
     ]
    }
   ],
   "source": [
    "a =int(input(\"Enter your age : \"))\n",
    "# age = int(a)\n",
    "print(a+5)"
   ]
  },
  {
   "cell_type": "code",
   "execution_count": 25,
   "metadata": {},
   "outputs": [
    {
     "name": "stdout",
     "output_type": "stream",
     "text": [
      "Despite the rain pouring heavily outside, and the wind howling fiercely through the trees.\n",
      " Sarah, determined and full of ambition, ventured out to the old bookstore in the heart of the city, hoping to find that one rare, out-of-print novel she had been searching for for years, knowing that this could be her last chance to discover it before the bookstore closed down for good, leaving behind only memories of its cozy, nostalgic atmosphere, the smell of aged paper, and the joy of stumbling upon forgotten treasures in the quiet corners of the dusty shelves.\n"
     ]
    }
   ],
   "source": [
    "print(\"Despite the rain pouring heavily outside, and the wind howling fiercely through the trees.\\n Sarah, determined and full of ambition, ventured out to the old bookstore in the heart of the city, hoping to find that one rare\\n out-of-print novel she had been searching for for years, knowing that this could be her last chance to discover it before the bookstore closed down for good, leaving behind only memories of its cozy, nostalgic atmosphere, the smell of aged paper, and the joy of stumbling upon forgotten treasures in the quiet corners of the dusty shelves.\")"
   ]
  }
 ],
 "metadata": {
  "kernelspec": {
   "display_name": "Python 3",
   "language": "python",
   "name": "python3"
  },
  "language_info": {
   "codemirror_mode": {
    "name": "ipython",
    "version": 3
   },
   "file_extension": ".py",
   "mimetype": "text/x-python",
   "name": "python",
   "nbconvert_exporter": "python",
   "pygments_lexer": "ipython3",
   "version": "3.10.16"
  }
 },
 "nbformat": 4,
 "nbformat_minor": 2
}
